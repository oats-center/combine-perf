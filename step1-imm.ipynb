{
 "cells": [
  {
   "cell_type": "code",
   "execution_count": 1,
   "id": "e3ed7a40",
   "metadata": {
    "ExecuteTime": {
     "end_time": "2021-06-15T02:40:06.616779Z",
     "start_time": "2021-06-15T02:40:05.330438Z"
    }
   },
   "outputs": [],
   "source": [
    "import pickle\n",
    "import copy\n",
    "\n",
    "import alphashape as ashp\n",
    "import pandas as pd\n",
    "import numpy as np\n",
    "import colorcet as cc\n",
    "import geopandas as gpd\n",
    "import matplotlib.pyplot as plt\n",
    "\n",
    "from filterpy.kalman import IMMEstimator, KalmanFilter, MerweScaledSigmaPoints\n",
    "from filterpy.kalman import UnscentedKalmanFilter as UKF\n",
    "from scipy.linalg import block_diag\n",
    "\n",
    "from tqdm import tqdm\n",
    "from matplotlib import colors\n",
    "from pyproj import Proj"
   ]
  },
  {
   "cell_type": "code",
   "execution_count": 2,
   "id": "837b3d0d",
   "metadata": {
    "ExecuteTime": {
     "end_time": "2021-06-15T02:40:06.622035Z",
     "start_time": "2021-06-15T02:40:06.618816Z"
    }
   },
   "outputs": [],
   "source": [
    "plt.style.use('dark_background')"
   ]
  },
  {
   "cell_type": "code",
   "execution_count": 3,
   "id": "6cbef8d7",
   "metadata": {
    "ExecuteTime": {
     "end_time": "2021-06-15T02:40:06.626912Z",
     "start_time": "2021-06-15T02:40:06.624178Z"
    }
   },
   "outputs": [],
   "source": [
    "H5_PATH = '/home/yang/data/gps/'\n",
    "OUTPUT_PATH = '/home/yang/output/eswe/imm/'\n",
    "EVENT = 'jkwh'\n",
    "MACHINE_ID = '2388'\n",
    "DATE = '072019'\n",
    "FIELD_ID = 'f8'\n",
    "log_name = '-'.join([EVENT, MACHINE_ID, DATE, FIELD_ID, 'gps.h5'])"
   ]
  },
  {
   "cell_type": "code",
   "execution_count": 4,
   "id": "19432da9",
   "metadata": {
    "ExecuteTime": {
     "end_time": "2021-06-15T02:40:06.855770Z",
     "start_time": "2021-06-15T02:40:06.628886Z"
    }
   },
   "outputs": [],
   "source": [
    "gps = pd.read_hdf(H5_PATH + log_name)"
   ]
  },
  {
   "cell_type": "code",
   "execution_count": 5,
   "id": "ca630baa",
   "metadata": {
    "ExecuteTime": {
     "end_time": "2021-06-15T02:40:06.878620Z",
     "start_time": "2021-06-15T02:40:06.857606Z"
    }
   },
   "outputs": [
    {
     "data": {
      "text/html": [
       "<div>\n",
       "<style scoped>\n",
       "    .dataframe tbody tr th:only-of-type {\n",
       "        vertical-align: middle;\n",
       "    }\n",
       "\n",
       "    .dataframe tbody tr th {\n",
       "        vertical-align: top;\n",
       "    }\n",
       "\n",
       "    .dataframe thead th {\n",
       "        text-align: right;\n",
       "    }\n",
       "</style>\n",
       "<table border=\"1\" class=\"dataframe\">\n",
       "  <thead>\n",
       "    <tr style=\"text-align: right;\">\n",
       "      <th></th>\n",
       "      <th>machine_id</th>\n",
       "      <th>ts</th>\n",
       "      <th>lat</th>\n",
       "      <th>lon</th>\n",
       "      <th>alt</th>\n",
       "      <th>speed</th>\n",
       "      <th>track</th>\n",
       "      <th>accuracies</th>\n",
       "      <th>x</th>\n",
       "      <th>y</th>\n",
       "      <th>ts_local</th>\n",
       "    </tr>\n",
       "  </thead>\n",
       "  <tbody>\n",
       "    <tr>\n",
       "      <th>0</th>\n",
       "      <td>joe 2388</td>\n",
       "      <td>1297319541</td>\n",
       "      <td>40.778553</td>\n",
       "      <td>-102.325032</td>\n",
       "      <td>1140.000000</td>\n",
       "      <td>0.00</td>\n",
       "      <td>0.0</td>\n",
       "      <td>11</td>\n",
       "      <td>725732.363209</td>\n",
       "      <td>4.517618e+06</td>\n",
       "      <td>2011-02-09 23:32:21</td>\n",
       "    </tr>\n",
       "    <tr>\n",
       "      <th>1</th>\n",
       "      <td>joe 2388</td>\n",
       "      <td>1297319542</td>\n",
       "      <td>40.778525</td>\n",
       "      <td>-102.325060</td>\n",
       "      <td>1140.099976</td>\n",
       "      <td>0.00</td>\n",
       "      <td>0.0</td>\n",
       "      <td>11</td>\n",
       "      <td>725730.127124</td>\n",
       "      <td>4.517615e+06</td>\n",
       "      <td>2011-02-09 23:32:22</td>\n",
       "    </tr>\n",
       "    <tr>\n",
       "      <th>2</th>\n",
       "      <td>joe 2388</td>\n",
       "      <td>1297319543</td>\n",
       "      <td>40.778490</td>\n",
       "      <td>-102.325084</td>\n",
       "      <td>1140.000000</td>\n",
       "      <td>0.00</td>\n",
       "      <td>0.0</td>\n",
       "      <td>11</td>\n",
       "      <td>725728.175426</td>\n",
       "      <td>4.517611e+06</td>\n",
       "      <td>2011-02-09 23:32:23</td>\n",
       "    </tr>\n",
       "    <tr>\n",
       "      <th>3</th>\n",
       "      <td>joe 2388</td>\n",
       "      <td>1297319544</td>\n",
       "      <td>40.778540</td>\n",
       "      <td>-102.325050</td>\n",
       "      <td>1140.000000</td>\n",
       "      <td>0.00</td>\n",
       "      <td>0.0</td>\n",
       "      <td>12</td>\n",
       "      <td>725730.864839</td>\n",
       "      <td>4.517616e+06</td>\n",
       "      <td>2011-02-09 23:32:24</td>\n",
       "    </tr>\n",
       "    <tr>\n",
       "      <th>4</th>\n",
       "      <td>joe 2388</td>\n",
       "      <td>1297319572</td>\n",
       "      <td>40.778660</td>\n",
       "      <td>-102.325071</td>\n",
       "      <td>1134.199951</td>\n",
       "      <td>0.25</td>\n",
       "      <td>263.4</td>\n",
       "      <td>28</td>\n",
       "      <td>725728.732359</td>\n",
       "      <td>4.517630e+06</td>\n",
       "      <td>2011-02-09 23:32:52</td>\n",
       "    </tr>\n",
       "  </tbody>\n",
       "</table>\n",
       "</div>"
      ],
      "text/plain": [
       "  machine_id          ts        lat         lon          alt  speed  track  \\\n",
       "0   joe 2388  1297319541  40.778553 -102.325032  1140.000000   0.00    0.0   \n",
       "1   joe 2388  1297319542  40.778525 -102.325060  1140.099976   0.00    0.0   \n",
       "2   joe 2388  1297319543  40.778490 -102.325084  1140.000000   0.00    0.0   \n",
       "3   joe 2388  1297319544  40.778540 -102.325050  1140.000000   0.00    0.0   \n",
       "4   joe 2388  1297319572  40.778660 -102.325071  1134.199951   0.25  263.4   \n",
       "\n",
       "   accuracies              x             y            ts_local  \n",
       "0          11  725732.363209  4.517618e+06 2011-02-09 23:32:21  \n",
       "1          11  725730.127124  4.517615e+06 2011-02-09 23:32:22  \n",
       "2          11  725728.175426  4.517611e+06 2011-02-09 23:32:23  \n",
       "3          12  725730.864839  4.517616e+06 2011-02-09 23:32:24  \n",
       "4          28  725728.732359  4.517630e+06 2011-02-09 23:32:52  "
      ]
     },
     "execution_count": 5,
     "metadata": {},
     "output_type": "execute_result"
    }
   ],
   "source": [
    "gps.head()"
   ]
  },
  {
   "cell_type": "code",
   "execution_count": 6,
   "id": "b36407c5",
   "metadata": {
    "ExecuteTime": {
     "end_time": "2021-06-15T02:40:07.070330Z",
     "start_time": "2021-06-15T02:40:06.880697Z"
    }
   },
   "outputs": [
    {
     "data": {
      "text/plain": [
       "(725648.7497883784, 726105.6736693224, 4517530.55878798, 4519292.470012943)"
      ]
     },
     "execution_count": 6,
     "metadata": {},
     "output_type": "execute_result"
    },
    {
     "data": {
      "image/png": "[encoded data removed]",
      "text/plain": [
       "<Figure size 720x432 with 1 Axes>"
      ]
     },
     "metadata": {},
     "output_type": "display_data"
    }
   ],
   "source": [
    "fig, ax = plt.subplots(figsize=(10,6))\n",
    "gps.plot.scatter(x='x', y='y', s=1, ax=ax)\n",
    "ax.axis('equal')"
   ]
  },
  {
   "cell_type": "code",
   "execution_count": 7,
   "id": "04d6ba3f",
   "metadata": {
    "ExecuteTime": {
     "end_time": "2021-06-15T02:40:07.096768Z",
     "start_time": "2021-06-15T02:40:07.072179Z"
    }
   },
   "outputs": [],
   "source": [
    "# Before filteing, let's see if there is any gap in data points\n",
    "# We need to break these different segments into groups and then smooth each group\n",
    "\n",
    "# Compute time difference\n",
    "gps_seg = gps.copy()\n",
    "gps_seg['ts_diff'] = gps_seg['ts'].diff()\n",
    "gps_seg.loc[0, 'ts_diff'] = 0\n",
    "\n",
    "# A trick vector that could be used for grouping\n",
    "gps_seg['ts_diff_binary'] = gps_seg['ts_diff'] > 1\n",
    "gps_seg['ts_diff_binary_cumsum'] = gps_seg['ts_diff_binary'].apply(lambda x: 1 if x else 0).cumsum()\n",
    "\n",
    "# Points groups\n",
    "grp = gps_seg.groupby('ts_diff_binary_cumsum')\n",
    "\n",
    "# Make indices right\n",
    "gps_seg['seg_num'] = grp.ngroup()\n",
    "gps_seg.loc[0, 'seg_num'] = 0"
   ]
  },
  {
   "cell_type": "code",
   "execution_count": 8,
   "id": "21eb6f38",
   "metadata": {
    "ExecuteTime": {
     "end_time": "2021-06-15T02:40:07.103049Z",
     "start_time": "2021-06-15T02:40:07.098505Z"
    }
   },
   "outputs": [
    {
     "name": "stdout",
     "output_type": "stream",
     "text": [
      "[ 0  1  2  3  4  5  6  7  8  9 10]\n"
     ]
    }
   ],
   "source": [
    "print(gps_seg['seg_num'].unique())"
   ]
  },
  {
   "cell_type": "code",
   "execution_count": 9,
   "id": "06e32d23",
   "metadata": {
    "ExecuteTime": {
     "end_time": "2021-06-15T02:40:07.109406Z",
     "start_time": "2021-06-15T02:40:07.105366Z"
    }
   },
   "outputs": [],
   "source": [
    "# Allocate space for model probs.\n",
    "gps_c = gps.copy()\n",
    "gps_c['cv_prob'] = np.nan\n",
    "gps_c['nct_prob'] = np.nan"
   ]
  },
  {
   "cell_type": "code",
   "execution_count": 10,
   "id": "a79bb13d",
   "metadata": {
    "ExecuteTime": {
     "end_time": "2021-06-15T02:40:07.113413Z",
     "start_time": "2021-06-15T02:40:07.111048Z"
    }
   },
   "outputs": [],
   "source": [
    "# # Get the measured value vector\n",
    "# Z = np.vstack([gps['x'].values, gps['y'].values]).T"
   ]
  },
  {
   "cell_type": "code",
   "execution_count": 11,
   "id": "1e2a95a5",
   "metadata": {
    "ExecuteTime": {
     "end_time": "2021-06-15T02:40:07.117372Z",
     "start_time": "2021-06-15T02:40:07.114890Z"
    }
   },
   "outputs": [],
   "source": [
    "# Define timestep\n",
    "dt = 1"
   ]
  },
  {
   "cell_type": "code",
   "execution_count": 12,
   "id": "b7bc9da6",
   "metadata": {
    "ExecuteTime": {
     "end_time": "2021-06-15T02:40:07.124204Z",
     "start_time": "2021-06-15T02:40:07.118785Z"
    }
   },
   "outputs": [],
   "source": [
    "# UKF f, h definitions\n",
    "def f_nct(x, dt):\n",
    "    F = np.array([[1, np.sin(x[4]*dt)/x[4], 0,  -(1-np.cos(x[4]*dt))/x[4], 0], \\\n",
    "                  [0, np.cos(x[4]*dt), 0, -np.sin(x[4]*dt), 0], \\\n",
    "                  [0, (1-np.cos(x[4]*dt))/x[4], 1, np.sin(x[4]*dt)/x[4], 0], \\\n",
    "                  [0, np.sin(x[4]*dt), 0, np.cos(x[4]*dt), 0], \\\n",
    "                  [0, 0, 0, 0, 1]], dtype=float)\n",
    "    return F@x\n",
    "\n",
    "def h_nct(x):\n",
    "    H = np.array([[1, 0, 0, 0, 0], \\\n",
    "                  [0, 0, 1, 0, 0]], dtype=float)\n",
    "    return x[[0,2]]"
   ]
  },
  {
   "cell_type": "code",
   "execution_count": 13,
   "id": "f28f9688",
   "metadata": {
    "ExecuteTime": {
     "end_time": "2021-06-15T02:40:07.130225Z",
     "start_time": "2021-06-15T02:40:07.125645Z"
    }
   },
   "outputs": [],
   "source": [
    "# Setup UKF for NCT model\n",
    "points = MerweScaledSigmaPoints(n=5, alpha=.1, beta=2., kappa=-1)\n",
    "nct = UKF(dim_x=5, dim_z=2, dt=dt, fx=f_nct, hx=h_nct, points=points)\n",
    "nct.x = np.array([0, 0, 0, 0, 0.1])\n",
    "nct.P *= 1.e-3\n",
    "# nct.R = np.diag([1e-1, 1e-1])\n",
    "nct.R = np.diag([0.5, 0.5])\n",
    "# q_nct = np.radians(1)\n",
    "q_nct = 0.01\n",
    "nct.Q = np.array([[0, 0, 0, 0, 0], \\\n",
    "                  [0, 0, 0, 0, 0], \\\n",
    "                  [0, 0, 0, 0, 0], \\\n",
    "                  [0, 0, 0, 0, 0], \\\n",
    "                  [0, 0, 0, 0, dt*q_nct]])"
   ]
  },
  {
   "cell_type": "code",
   "execution_count": 14,
   "id": "3fb1bd96",
   "metadata": {
    "ExecuteTime": {
     "end_time": "2021-06-15T02:40:07.138168Z",
     "start_time": "2021-06-15T02:40:07.132045Z"
    }
   },
   "outputs": [],
   "source": [
    "# Define NCV model\n",
    "cv = KalmanFilter(5, 2) # we are 5 estimated states, and 2 measured states\n",
    "# Define dynamic matrix\n",
    "cv.F = np.array([[1, dt, 0, 0, 0], \\\n",
    "                 [0, 1, 0, 0, 0], \\\n",
    "                 [0, 0, 1, dt, 0], \\\n",
    "                 [0, 0, 0, 1, 0], \\\n",
    "                 [0, 0, 0, 0, 0]])\n",
    "# Define measurement matrix\n",
    "cv.H = np.array([[1, 0, 0, 0, 0],\n",
    "                 [0, 0, 1, 0, 0]])\n",
    "# Initial state estimate guess\n",
    "cv.x = np.array([0, 0, 0, 0, 0])\n",
    "# Initial error covariance guess\n",
    "cv.P *= 1e-3\n",
    "# Measurement noise\n",
    "# cv.R = np.diag([1e-1, 1e-1])\n",
    "cv.R = np.diag([0.5, 0.5])\n",
    "# Process noise\n",
    "q_cv = 1e-3\n",
    "cv.Q = np.array([[1/3*(dt**3), 1/2*(dt**2), 0, 0, 0], \\\n",
    "                 [1/2*(dt**2), dt, 0, 0, 0], \\\n",
    "                 [0, 0, 1/3*(dt**3), 1/2*(dt**2), 0], \\\n",
    "                 [0, 0, 1/2*(dt**2), dt, 0], \\\n",
    "                 [0, 0, 0, 0, 0]])*q_cv"
   ]
  },
  {
   "cell_type": "code",
   "execution_count": 393,
   "id": "7910881e",
   "metadata": {
    "ExecuteTime": {
     "end_time": "2021-05-14T20:16:39.122492Z",
     "start_time": "2021-05-14T20:16:39.118886Z"
    }
   },
   "outputs": [],
   "source": [
    "# Create filter banks\n",
    "filters = [cv, nct]\n",
    "# Assign initial mixing probs.\n",
    "mu = np.array([1/2, 1/2])\n",
    "# Define model transition prob. matrix\n",
    "pij = np.array([[0.95, 0.05], \\\n",
    "                [0.05, 0.95]])\n",
    "bank = IMMEstimator(filters, mu, pij)"
   ]
  },
  {
   "cell_type": "code",
   "execution_count": 394,
   "id": "fde045ca",
   "metadata": {
    "ExecuteTime": {
     "end_time": "2021-05-14T20:17:21.525087Z",
     "start_time": "2021-05-14T20:16:39.124006Z"
    }
   },
   "outputs": [
    {
     "name": "stderr",
     "output_type": "stream",
     "text": [
      "100%|██████████| 11/11 [00:42<00:00,  3.85s/it]\n"
     ]
    }
   ],
   "source": [
    "for n in tqdm(gps_seg['seg_num'].unique()):\n",
    "    # Get the track segment\n",
    "    seg = gps_seg.loc[gps_seg['seg_num'] == n, ['x', 'y']]\n",
    "    z = np.vstack([seg['x'].values, seg['y'].values]).T\n",
    "    xs, probs = [], []\n",
    "    # Filter data with IMM\n",
    "    cv.x = np.array([z[0,0], 0, z[0,1], 0, 0])\n",
    "    nct.x = np.array([z[0,0], 0, z[0,1], 0, 0.1])\n",
    "    for i, zi in enumerate(z):\n",
    "        bank.predict()\n",
    "        bank.update(zi)\n",
    "        xs.append(bank.x.copy())\n",
    "        probs.append(bank.mu.copy())\n",
    "    # Put the model prob. and IMM combined states as np arrays\n",
    "    probs = np.array(probs)\n",
    "#     xs = np.array(xs)\n",
    "    # Assign the model probs. to the original df\n",
    "    gps_c.loc[gps_seg[gps_seg['seg_num'] == n].index, 'cv_prob'] = probs[:,0]\n",
    "    gps_c.loc[gps_seg[gps_seg['seg_num'] == n].index, 'nct_prob'] = probs[:,1]"
   ]
  },
  {
   "cell_type": "code",
   "execution_count": 395,
   "id": "d7a632f4",
   "metadata": {
    "ExecuteTime": {
     "end_time": "2021-05-14T20:17:21.951389Z",
     "start_time": "2021-05-14T20:17:21.527157Z"
    }
   },
   "outputs": [
    {
     "data": {
      "text/plain": [
       "(725648.7497883784, 726105.6736693224, 4517530.55878798, 4519292.470012943)"
      ]
     },
     "execution_count": 395,
     "metadata": {},
     "output_type": "execute_result"
    },
    {
     "data": {
      "image/png": "[encoded data removed]",
      "text/plain": [
       "<Figure size 720x432 with 1 Axes>"
      ]
     },
     "metadata": {},
     "output_type": "display_data"
    }
   ],
   "source": [
    "fig, ax = plt.subplots(figsize=(10,6))\n",
    "gps_c.plot.scatter(x='x', y='y', c='nct_prob', cmap=plt.get_cmap('viridis'), colorbar=False, s=1, ax=ax)\n",
    "ax.axis('equal')"
   ]
  },
  {
   "cell_type": "code",
   "execution_count": 396,
   "id": "31815260",
   "metadata": {
    "ExecuteTime": {
     "end_time": "2021-05-14T20:17:21.978019Z",
     "start_time": "2021-05-14T20:17:21.952883Z"
    }
   },
   "outputs": [],
   "source": [
    "# Save the model probs. into the dataframe and save it\n",
    "gps_c.to_hdf(OUTPUT_PATH + '-'.join([EVENT, MACHINE_ID, DATE, FIELD_ID, 'gps-imm.h5']), key='df', mode='w')"
   ]
  }
 ],
 "metadata": {
  "kernelspec": {
   "display_name": "Python 3",
   "language": "python",
   "name": "python3"
  },
  "language_info": {
   "codemirror_mode": {
    "name": "ipython",
    "version": 3
   },
   "file_extension": ".py",
   "mimetype": "text/x-python",
   "name": "python",
   "nbconvert_exporter": "python",
   "pygments_lexer": "ipython3",
   "version": "3.8.8"
  }
 },
 "nbformat": 4,
 "nbformat_minor": 5
}
