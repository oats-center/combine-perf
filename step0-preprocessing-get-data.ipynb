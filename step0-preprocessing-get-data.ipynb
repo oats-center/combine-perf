{
 "cells": [
  {
   "cell_type": "code",
   "execution_count": 18,
   "id": "3c18aefd",
   "metadata": {
    "ExecuteTime": {
     "end_time": "2021-05-23T19:20:28.440800Z",
     "start_time": "2021-05-23T19:20:28.434139Z"
    }
   },
   "outputs": [],
   "source": [
    "import fiona\n",
    "\n",
    "import pandas as pd\n",
    "import numpy as np\n",
    "import geopandas as gpd\n",
    "import matplotlib.pyplot as plt\n",
    "import shapefile\n",
    "\n",
    "from descartes import PolygonPatch\n",
    "from matplotlib import cm, colors\n",
    "from shapely.geometry import Polygon, Point\n",
    "from geopandas import GeoSeries\n",
    "from pyproj import Proj"
   ]
  },
  {
   "cell_type": "code",
   "execution_count": 19,
   "id": "497bb2e3",
   "metadata": {
    "ExecuteTime": {
     "end_time": "2021-05-23T19:20:28.447559Z",
     "start_time": "2021-05-23T19:20:28.443377Z"
    }
   },
   "outputs": [],
   "source": [
    "plt.style.use('dark_background')\n",
    "gpd.io.file.fiona.drvsupport.supported_drivers['KML'] = 'rw'"
   ]
  },
  {
   "cell_type": "code",
   "execution_count": 20,
   "id": "e28712fe",
   "metadata": {
    "ExecuteTime": {
     "end_time": "2021-05-23T19:20:28.452910Z",
     "start_time": "2021-05-23T19:20:28.449821Z"
    }
   },
   "outputs": [],
   "source": [
    "LOG_PATH = '/home/yang/data/raw/'\n",
    "H5_PATH = '/home/yang/data/gps/'\n",
    "EVENT = 'jkwh'\n",
    "MACHINE_ID = '8250'\n",
    "DATE = '072019'\n",
    "TZONE = 'America/Denver'\n",
    "UTMZONE = 13"
   ]
  },
  {
   "cell_type": "code",
   "execution_count": 21,
   "id": "4dcea61a",
   "metadata": {
    "ExecuteTime": {
     "end_time": "2021-05-23T19:20:28.464153Z",
     "start_time": "2021-05-23T19:20:28.456748Z"
    }
   },
   "outputs": [],
   "source": [
    "# Specify data types for each column\n",
    "dtypes = {\n",
    "    'ts': str, \\\n",
    "    'lat': np.float64, \\\n",
    "    'lon': np.float64, \\\n",
    "    'alt': np.float64, \\\n",
    "    'track': np.float64, \\\n",
    "    'speed': np.float64, \\\n",
    "    'climb': np.float64, \\\n",
    "    'epx': np.float64, \\\n",
    "    'epy': np.float64, \\\n",
    "    'epv': np.float64, \\\n",
    "    'epd': np.float64, \\\n",
    "    'eps': np.float64, \\\n",
    "    'epc': np.float64}"
   ]
  },
  {
   "cell_type": "code",
   "execution_count": 22,
   "id": "f7aeaa98",
   "metadata": {
    "ExecuteTime": {
     "end_time": "2021-05-23T19:20:28.472596Z",
     "start_time": "2021-05-23T19:20:28.468207Z"
    }
   },
   "outputs": [],
   "source": [
    "# Put the column names into a list\n",
    "cols = list(dtypes.keys())"
   ]
  },
  {
   "cell_type": "code",
   "execution_count": 23,
   "id": "833bbd7e",
   "metadata": {
    "ExecuteTime": {
     "end_time": "2021-05-23T19:20:29.217504Z",
     "start_time": "2021-05-23T19:20:28.475957Z"
    }
   },
   "outputs": [],
   "source": [
    "ext = 'gps.log'\n",
    "LOG_NAME = '-'.join([EVENT, MACHINE_ID, DATE, ext])\n",
    "gps_log = pd.read_csv(LOG_PATH + LOG_NAME, sep=' ', dtype=dtypes, names=cols, na_values='None', skip_blank_lines=True)"
   ]
  },
  {
   "cell_type": "code",
   "execution_count": 24,
   "id": "e2826bc5",
   "metadata": {
    "ExecuteTime": {
     "end_time": "2021-05-23T19:20:29.226256Z",
     "start_time": "2021-05-23T19:20:29.220932Z"
    }
   },
   "outputs": [
    {
     "name": "stdout",
     "output_type": "stream",
     "text": [
      "416886\n"
     ]
    }
   ],
   "source": [
    "print(len(gps_log))"
   ]
  },
  {
   "cell_type": "code",
   "execution_count": 25,
   "id": "4fe2840c",
   "metadata": {
    "ExecuteTime": {
     "end_time": "2021-05-23T19:20:29.248244Z",
     "start_time": "2021-05-23T19:20:29.228422Z"
    }
   },
   "outputs": [
    {
     "data": {
      "text/html": [
       "<div>\n",
       "<style scoped>\n",
       "    .dataframe tbody tr th:only-of-type {\n",
       "        vertical-align: middle;\n",
       "    }\n",
       "\n",
       "    .dataframe tbody tr th {\n",
       "        vertical-align: top;\n",
       "    }\n",
       "\n",
       "    .dataframe thead th {\n",
       "        text-align: right;\n",
       "    }\n",
       "</style>\n",
       "<table border=\"1\" class=\"dataframe\">\n",
       "  <thead>\n",
       "    <tr style=\"text-align: right;\">\n",
       "      <th></th>\n",
       "      <th>ts</th>\n",
       "      <th>lat</th>\n",
       "      <th>lon</th>\n",
       "      <th>alt</th>\n",
       "      <th>track</th>\n",
       "      <th>speed</th>\n",
       "      <th>climb</th>\n",
       "      <th>epx</th>\n",
       "      <th>epy</th>\n",
       "      <th>epv</th>\n",
       "      <th>epd</th>\n",
       "      <th>eps</th>\n",
       "      <th>epc</th>\n",
       "    </tr>\n",
       "  </thead>\n",
       "  <tbody>\n",
       "    <tr>\n",
       "      <th>0</th>\n",
       "      <td>1551908489</td>\n",
       "      <td>40.429708</td>\n",
       "      <td>-86.911978</td>\n",
       "      <td>224.300</td>\n",
       "      <td>0.0000</td>\n",
       "      <td>0.011</td>\n",
       "      <td>NaN</td>\n",
       "      <td>NaN</td>\n",
       "      <td>NaN</td>\n",
       "      <td>NaN</td>\n",
       "      <td>NaN</td>\n",
       "      <td>NaN</td>\n",
       "      <td>NaN</td>\n",
       "    </tr>\n",
       "    <tr>\n",
       "      <th>1</th>\n",
       "      <td>1551908489</td>\n",
       "      <td>40.429708</td>\n",
       "      <td>-86.911978</td>\n",
       "      <td>224.300</td>\n",
       "      <td>0.0000</td>\n",
       "      <td>0.011</td>\n",
       "      <td>0.000</td>\n",
       "      <td>NaN</td>\n",
       "      <td>NaN</td>\n",
       "      <td>46.00</td>\n",
       "      <td>NaN</td>\n",
       "      <td>NaN</td>\n",
       "      <td>NaN</td>\n",
       "    </tr>\n",
       "    <tr>\n",
       "      <th>2</th>\n",
       "      <td>1551908493</td>\n",
       "      <td>40.429702</td>\n",
       "      <td>-86.911973</td>\n",
       "      <td>223.398</td>\n",
       "      <td>27.4440</td>\n",
       "      <td>0.074</td>\n",
       "      <td>-0.047</td>\n",
       "      <td>17.53</td>\n",
       "      <td>48.443</td>\n",
       "      <td>45.77</td>\n",
       "      <td>NaN</td>\n",
       "      <td>0.53</td>\n",
       "      <td>91.54</td>\n",
       "    </tr>\n",
       "    <tr>\n",
       "      <th>3</th>\n",
       "      <td>1551908494</td>\n",
       "      <td>40.429701</td>\n",
       "      <td>-86.911974</td>\n",
       "      <td>223.220</td>\n",
       "      <td>261.6007</td>\n",
       "      <td>0.019</td>\n",
       "      <td>-0.043</td>\n",
       "      <td>17.53</td>\n",
       "      <td>48.443</td>\n",
       "      <td>45.77</td>\n",
       "      <td>NaN</td>\n",
       "      <td>0.48</td>\n",
       "      <td>91.54</td>\n",
       "    </tr>\n",
       "    <tr>\n",
       "      <th>4</th>\n",
       "      <td>1551908495</td>\n",
       "      <td>40.429700</td>\n",
       "      <td>-86.911973</td>\n",
       "      <td>223.019</td>\n",
       "      <td>199.8861</td>\n",
       "      <td>0.057</td>\n",
       "      <td>-0.060</td>\n",
       "      <td>17.53</td>\n",
       "      <td>48.443</td>\n",
       "      <td>45.77</td>\n",
       "      <td>NaN</td>\n",
       "      <td>0.50</td>\n",
       "      <td>91.54</td>\n",
       "    </tr>\n",
       "  </tbody>\n",
       "</table>\n",
       "</div>"
      ],
      "text/plain": [
       "           ts        lat        lon      alt     track  speed  climb    epx  \\\n",
       "0  1551908489  40.429708 -86.911978  224.300    0.0000  0.011    NaN    NaN   \n",
       "1  1551908489  40.429708 -86.911978  224.300    0.0000  0.011  0.000    NaN   \n",
       "2  1551908493  40.429702 -86.911973  223.398   27.4440  0.074 -0.047  17.53   \n",
       "3  1551908494  40.429701 -86.911974  223.220  261.6007  0.019 -0.043  17.53   \n",
       "4  1551908495  40.429700 -86.911973  223.019  199.8861  0.057 -0.060  17.53   \n",
       "\n",
       "      epy    epv  epd   eps    epc  \n",
       "0     NaN    NaN  NaN   NaN    NaN  \n",
       "1     NaN  46.00  NaN   NaN    NaN  \n",
       "2  48.443  45.77  NaN  0.53  91.54  \n",
       "3  48.443  45.77  NaN  0.48  91.54  \n",
       "4  48.443  45.77  NaN  0.50  91.54  "
      ]
     },
     "execution_count": 25,
     "metadata": {},
     "output_type": "execute_result"
    }
   ],
   "source": [
    "gps_log.head()"
   ]
  },
  {
   "cell_type": "code",
   "execution_count": 26,
   "id": "93c580e5",
   "metadata": {
    "ExecuteTime": {
     "end_time": "2021-05-23T19:20:29.372672Z",
     "start_time": "2021-05-23T19:20:29.250660Z"
    }
   },
   "outputs": [],
   "source": [
    "# Make lat/lon to UTM conversion\n",
    "p = Proj(proj='utm', zone=UTMZONE, ellps='WGS84', preserve_units=False)\n",
    "x, y = p(gps_log['lon'].values, gps_log['lat'].values)\n",
    "gps_log['x'] = x\n",
    "gps_log['y'] = y"
   ]
  },
  {
   "cell_type": "code",
   "execution_count": 27,
   "id": "d6e7dbdb",
   "metadata": {
    "ExecuteTime": {
     "end_time": "2021-05-23T19:20:30.074821Z",
     "start_time": "2021-05-23T19:20:29.374545Z"
    }
   },
   "outputs": [],
   "source": [
    "# Convert from epoch to readable timestamps\n",
    "gps_log['ts_datetime'] = pd.to_datetime(gps_log['ts'], unit='s')\n",
    "gps_log['ts_local'] = gps_log['ts_datetime'].dt.tz_localize('UTC').dt.tz_convert(TZONE).dt.tz_localize(None)\n",
    "# Drop the intermediate columns\n",
    "gps_log_c = gps_log.drop(columns=['ts_datetime']).copy()"
   ]
  },
  {
   "cell_type": "code",
   "execution_count": 28,
   "id": "e93845bd",
   "metadata": {
    "ExecuteTime": {
     "end_time": "2021-05-23T19:20:30.097393Z",
     "start_time": "2021-05-23T19:20:30.076822Z"
    }
   },
   "outputs": [
    {
     "data": {
      "text/html": [
       "<div>\n",
       "<style scoped>\n",
       "    .dataframe tbody tr th:only-of-type {\n",
       "        vertical-align: middle;\n",
       "    }\n",
       "\n",
       "    .dataframe tbody tr th {\n",
       "        vertical-align: top;\n",
       "    }\n",
       "\n",
       "    .dataframe thead th {\n",
       "        text-align: right;\n",
       "    }\n",
       "</style>\n",
       "<table border=\"1\" class=\"dataframe\">\n",
       "  <thead>\n",
       "    <tr style=\"text-align: right;\">\n",
       "      <th></th>\n",
       "      <th>ts</th>\n",
       "      <th>lat</th>\n",
       "      <th>lon</th>\n",
       "      <th>alt</th>\n",
       "      <th>track</th>\n",
       "      <th>speed</th>\n",
       "      <th>climb</th>\n",
       "      <th>epx</th>\n",
       "      <th>epy</th>\n",
       "      <th>epv</th>\n",
       "      <th>epd</th>\n",
       "      <th>eps</th>\n",
       "      <th>epc</th>\n",
       "      <th>x</th>\n",
       "      <th>y</th>\n",
       "      <th>ts_local</th>\n",
       "    </tr>\n",
       "  </thead>\n",
       "  <tbody>\n",
       "    <tr>\n",
       "      <th>0</th>\n",
       "      <td>1551908489</td>\n",
       "      <td>40.429708</td>\n",
       "      <td>-86.911978</td>\n",
       "      <td>224.300</td>\n",
       "      <td>0.0000</td>\n",
       "      <td>0.011</td>\n",
       "      <td>NaN</td>\n",
       "      <td>NaN</td>\n",
       "      <td>NaN</td>\n",
       "      <td>NaN</td>\n",
       "      <td>NaN</td>\n",
       "      <td>NaN</td>\n",
       "      <td>NaN</td>\n",
       "      <td>2.038035e+06</td>\n",
       "      <td>4.635795e+06</td>\n",
       "      <td>2019-03-06 14:41:29</td>\n",
       "    </tr>\n",
       "    <tr>\n",
       "      <th>1</th>\n",
       "      <td>1551908489</td>\n",
       "      <td>40.429708</td>\n",
       "      <td>-86.911978</td>\n",
       "      <td>224.300</td>\n",
       "      <td>0.0000</td>\n",
       "      <td>0.011</td>\n",
       "      <td>0.000</td>\n",
       "      <td>NaN</td>\n",
       "      <td>NaN</td>\n",
       "      <td>46.00</td>\n",
       "      <td>NaN</td>\n",
       "      <td>NaN</td>\n",
       "      <td>NaN</td>\n",
       "      <td>2.038035e+06</td>\n",
       "      <td>4.635795e+06</td>\n",
       "      <td>2019-03-06 14:41:29</td>\n",
       "    </tr>\n",
       "    <tr>\n",
       "      <th>2</th>\n",
       "      <td>1551908493</td>\n",
       "      <td>40.429702</td>\n",
       "      <td>-86.911973</td>\n",
       "      <td>223.398</td>\n",
       "      <td>27.4440</td>\n",
       "      <td>0.074</td>\n",
       "      <td>-0.047</td>\n",
       "      <td>17.53</td>\n",
       "      <td>48.443</td>\n",
       "      <td>45.77</td>\n",
       "      <td>NaN</td>\n",
       "      <td>0.53</td>\n",
       "      <td>91.54</td>\n",
       "      <td>2.038035e+06</td>\n",
       "      <td>4.635794e+06</td>\n",
       "      <td>2019-03-06 14:41:33</td>\n",
       "    </tr>\n",
       "    <tr>\n",
       "      <th>3</th>\n",
       "      <td>1551908494</td>\n",
       "      <td>40.429701</td>\n",
       "      <td>-86.911974</td>\n",
       "      <td>223.220</td>\n",
       "      <td>261.6007</td>\n",
       "      <td>0.019</td>\n",
       "      <td>-0.043</td>\n",
       "      <td>17.53</td>\n",
       "      <td>48.443</td>\n",
       "      <td>45.77</td>\n",
       "      <td>NaN</td>\n",
       "      <td>0.48</td>\n",
       "      <td>91.54</td>\n",
       "      <td>2.038035e+06</td>\n",
       "      <td>4.635794e+06</td>\n",
       "      <td>2019-03-06 14:41:34</td>\n",
       "    </tr>\n",
       "    <tr>\n",
       "      <th>4</th>\n",
       "      <td>1551908495</td>\n",
       "      <td>40.429700</td>\n",
       "      <td>-86.911973</td>\n",
       "      <td>223.019</td>\n",
       "      <td>199.8861</td>\n",
       "      <td>0.057</td>\n",
       "      <td>-0.060</td>\n",
       "      <td>17.53</td>\n",
       "      <td>48.443</td>\n",
       "      <td>45.77</td>\n",
       "      <td>NaN</td>\n",
       "      <td>0.50</td>\n",
       "      <td>91.54</td>\n",
       "      <td>2.038035e+06</td>\n",
       "      <td>4.635794e+06</td>\n",
       "      <td>2019-03-06 14:41:35</td>\n",
       "    </tr>\n",
       "  </tbody>\n",
       "</table>\n",
       "</div>"
      ],
      "text/plain": [
       "           ts        lat        lon      alt     track  speed  climb    epx  \\\n",
       "0  1551908489  40.429708 -86.911978  224.300    0.0000  0.011    NaN    NaN   \n",
       "1  1551908489  40.429708 -86.911978  224.300    0.0000  0.011  0.000    NaN   \n",
       "2  1551908493  40.429702 -86.911973  223.398   27.4440  0.074 -0.047  17.53   \n",
       "3  1551908494  40.429701 -86.911974  223.220  261.6007  0.019 -0.043  17.53   \n",
       "4  1551908495  40.429700 -86.911973  223.019  199.8861  0.057 -0.060  17.53   \n",
       "\n",
       "      epy    epv  epd   eps    epc             x             y  \\\n",
       "0     NaN    NaN  NaN   NaN    NaN  2.038035e+06  4.635795e+06   \n",
       "1     NaN  46.00  NaN   NaN    NaN  2.038035e+06  4.635795e+06   \n",
       "2  48.443  45.77  NaN  0.53  91.54  2.038035e+06  4.635794e+06   \n",
       "3  48.443  45.77  NaN  0.48  91.54  2.038035e+06  4.635794e+06   \n",
       "4  48.443  45.77  NaN  0.50  91.54  2.038035e+06  4.635794e+06   \n",
       "\n",
       "             ts_local  \n",
       "0 2019-03-06 14:41:29  \n",
       "1 2019-03-06 14:41:29  \n",
       "2 2019-03-06 14:41:33  \n",
       "3 2019-03-06 14:41:34  \n",
       "4 2019-03-06 14:41:35  "
      ]
     },
     "execution_count": 28,
     "metadata": {},
     "output_type": "execute_result"
    }
   ],
   "source": [
    "gps_log_c.head()"
   ]
  },
  {
   "cell_type": "code",
   "execution_count": 29,
   "id": "9e99c060",
   "metadata": {
    "ExecuteTime": {
     "end_time": "2021-05-23T19:20:30.220773Z",
     "start_time": "2021-05-23T19:20:30.099561Z"
    }
   },
   "outputs": [
    {
     "name": "stdout",
     "output_type": "stream",
     "text": [
      "277932\n"
     ]
    }
   ],
   "source": [
    "# Drop duplicates in timestamp\n",
    "gps_log_c = gps_log_c.drop_duplicates(subset='ts')\n",
    "print(len(gps_log_c))"
   ]
  },
  {
   "cell_type": "code",
   "execution_count": 30,
   "id": "91842326",
   "metadata": {
    "ExecuteTime": {
     "end_time": "2021-05-23T19:20:30.299886Z",
     "start_time": "2021-05-23T19:20:30.223507Z"
    }
   },
   "outputs": [
    {
     "name": "stdout",
     "output_type": "stream",
     "text": [
      "277738\n"
     ]
    }
   ],
   "source": [
    "# Drop anything that is nan or inf\n",
    "gps_log_cc = gps_log_c[(gps_log_c['ts'] != np.nan) & (gps_log_c['x'] != np.nan) & (gps_log_c['y'] != np.nan) \\\n",
    "                      & (gps_log_c['x'] != np.inf) & (gps_log_c['y'] != np.inf)].copy()\n",
    "print(len(gps_log_cc))"
   ]
  },
  {
   "cell_type": "code",
   "execution_count": 31,
   "id": "ca0b7c92",
   "metadata": {
    "ExecuteTime": {
     "end_time": "2021-05-23T19:20:30.323084Z",
     "start_time": "2021-05-23T19:20:30.302948Z"
    }
   },
   "outputs": [],
   "source": [
    "# Reset the indices\n",
    "gps_log_cc = gps_log_cc.reset_index(drop=True)"
   ]
  },
  {
   "cell_type": "code",
   "execution_count": 32,
   "id": "235b368e",
   "metadata": {
    "ExecuteTime": {
     "end_time": "2021-05-23T19:20:30.495776Z",
     "start_time": "2021-05-23T19:20:30.325434Z"
    }
   },
   "outputs": [],
   "source": [
    "# Create gpd df that contains x,y map to Point object\n",
    "gdf = gpd.GeoDataFrame(gps_log_cc, geometry=gpd.points_from_xy(gps_log_cc['lon'], gps_log_cc['lat']))"
   ]
  },
  {
   "cell_type": "code",
   "execution_count": 33,
   "id": "fc280ddd",
   "metadata": {
    "ExecuteTime": {
     "end_time": "2021-05-23T19:20:30.515317Z",
     "start_time": "2021-05-23T19:20:30.497752Z"
    }
   },
   "outputs": [
    {
     "name": "stderr",
     "output_type": "stream",
     "text": [
      "/home/yang/anaconda3/envs/sashimi/lib/python3.8/site-packages/geopandas/geodataframe.py:422: RuntimeWarning: Sequential read of iterator was interrupted. Resetting iterator. This can negatively impact the performance.\n",
      "  for feature in features_lst:\n"
     ]
    }
   ],
   "source": [
    "# Load the boundary\n",
    "bnds = gpd.read_file('/home/yang/data/raw/jkwh.kml', driver='KML')"
   ]
  },
  {
   "cell_type": "code",
   "execution_count": 34,
   "id": "6a3d17e1",
   "metadata": {
    "ExecuteTime": {
     "end_time": "2021-05-23T19:20:31.597897Z",
     "start_time": "2021-05-23T19:20:30.517821Z"
    }
   },
   "outputs": [
    {
     "name": "stdout",
     "output_type": "stream",
     "text": [
      "Looking at f1\n",
      "Have data within this field, num. of pts: 12341\n",
      "Looking at f2\n",
      "Have data within this field, num. of pts: 2552\n",
      "Looking at f3\n",
      "Have data within this field, num. of pts: 17643\n",
      "Looking at f4\n",
      "No data found\n",
      "Looking at f5\n",
      "Have data within this field, num. of pts: 16\n",
      "Looking at f6\n",
      "Have data within this field, num. of pts: 1333\n",
      "Looking at f7\n",
      "No data found\n",
      "Looking at f8\n",
      "No data found\n",
      "Looking at f9\n",
      "No data found\n",
      "Looking at f10\n",
      "Have data within this field, num. of pts: 19\n",
      "Looking at f11\n",
      "No data found\n",
      "Looking at f12\n",
      "No data found\n"
     ]
    }
   ],
   "source": [
    "for idx, b in bnds.iterrows():\n",
    "    print('Looking at {}'.format(b['Name']))\n",
    "    if sum(gdf['geometry'].within(b['geometry'])):\n",
    "        print('Have data within this field, num. of pts: {}'.format(sum(gdf['geometry'].within(b['geometry']))))\n",
    "        ext = b['Name'] + '-gps.h5'\n",
    "        df = gdf[gdf['geometry'].within(b['geometry'])].copy()\n",
    "        df = df.drop(columns=['epx', 'epy', 'epv', 'epd', 'eps', 'epc', 'geometry'])\n",
    "        df = df.reset_index(drop=True)\n",
    "        dff = pd.DataFrame(df)\n",
    "        dff['ts'] = dff['ts'].astype('int64')\n",
    "#         if len(dff) > 500:\n",
    "#             dff.to_hdf(H5_PATH + '-'.join([EVENT, MACHINE_ID, DATE, ext]), key='df', mode='w')\n",
    "    else:\n",
    "        print('No data found')\n",
    "        continue"
   ]
  }
 ],
 "metadata": {
  "kernelspec": {
   "display_name": "Python 3",
   "language": "python",
   "name": "python3"
  },
  "language_info": {
   "codemirror_mode": {
    "name": "ipython",
    "version": 3
   },
   "file_extension": ".py",
   "mimetype": "text/x-python",
   "name": "python",
   "nbconvert_exporter": "python",
   "pygments_lexer": "ipython3",
   "version": "3.8.8"
  }
 },
 "nbformat": 4,
 "nbformat_minor": 5
}
