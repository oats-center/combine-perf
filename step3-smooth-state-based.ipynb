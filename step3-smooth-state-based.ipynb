{
 "cells": [
  {
   "cell_type": "code",
   "execution_count": 319,
   "id": "e3ed7a40",
   "metadata": {
    "ExecuteTime": {
     "end_time": "2021-05-15T00:41:10.689355Z",
     "start_time": "2021-05-15T00:41:10.684014Z"
    }
   },
   "outputs": [],
   "source": [
    "import pickle\n",
    "import copy\n",
    "\n",
    "import alphashape as ashp\n",
    "import pandas as pd\n",
    "import numpy as np\n",
    "import colorcet as cc\n",
    "import geopandas as gpd\n",
    "import matplotlib.pyplot as plt\n",
    "\n",
    "from sklearn.cluster import DBSCAN\n",
    "from scipy.spatial.distance import pdist, squareform\n",
    "from scipy.linalg import block_diag\n",
    "from filterpy.kalman import KalmanFilter, MerweScaledSigmaPoints\n",
    "from filterpy.kalman import UnscentedKalmanFilter as UKF\n",
    "\n",
    "from tqdm import tqdm\n",
    "from matplotlib import colors\n",
    "from pyproj import Proj"
   ]
  },
  {
   "cell_type": "code",
   "execution_count": 320,
   "id": "837b3d0d",
   "metadata": {
    "ExecuteTime": {
     "end_time": "2021-05-15T00:41:10.697011Z",
     "start_time": "2021-05-15T00:41:10.692235Z"
    }
   },
   "outputs": [],
   "source": [
    "plt.style.use('dark_background')"
   ]
  },
  {
   "cell_type": "code",
   "execution_count": 321,
   "id": "6cbef8d7",
   "metadata": {
    "ExecuteTime": {
     "end_time": "2021-05-15T00:41:10.706693Z",
     "start_time": "2021-05-15T00:41:10.701069Z"
    }
   },
   "outputs": [],
   "source": [
    "H5_PATH = '/home/yang/output/eswe/cls/'\n",
    "OUTPUT_PATH = '/home/yang/output/eswe/smooth/'\n",
    "EVENT = 'jkwh'\n",
    "MACHINE_ID = '6088'\n",
    "DATE = '072019'\n",
    "FIELD_ID = 'f8'\n",
    "log_name = '-'.join([EVENT, MACHINE_ID, DATE, FIELD_ID, 'gps-cls.h5'])"
   ]
  },
  {
   "cell_type": "code",
   "execution_count": 322,
   "id": "19432da9",
   "metadata": {
    "ExecuteTime": {
     "end_time": "2021-05-15T00:41:10.768524Z",
     "start_time": "2021-05-15T00:41:10.711079Z"
    }
   },
   "outputs": [],
   "source": [
    "# Load in data\n",
    "gps = pd.read_hdf(H5_PATH + log_name)"
   ]
  },
  {
   "cell_type": "code",
   "execution_count": 323,
   "id": "ca630baa",
   "metadata": {
    "ExecuteTime": {
     "end_time": "2021-05-15T00:41:10.805680Z",
     "start_time": "2021-05-15T00:41:10.772039Z"
    }
   },
   "outputs": [
    {
     "data": {
      "text/html": [
       "<div>\n",
       "<style scoped>\n",
       "    .dataframe tbody tr th:only-of-type {\n",
       "        vertical-align: middle;\n",
       "    }\n",
       "\n",
       "    .dataframe tbody tr th {\n",
       "        vertical-align: top;\n",
       "    }\n",
       "\n",
       "    .dataframe thead th {\n",
       "        text-align: right;\n",
       "    }\n",
       "</style>\n",
       "<table border=\"1\" class=\"dataframe\">\n",
       "  <thead>\n",
       "    <tr style=\"text-align: right;\">\n",
       "      <th></th>\n",
       "      <th>machine_id</th>\n",
       "      <th>ts</th>\n",
       "      <th>lat</th>\n",
       "      <th>lon</th>\n",
       "      <th>alt</th>\n",
       "      <th>speed</th>\n",
       "      <th>track</th>\n",
       "      <th>accuracies</th>\n",
       "      <th>x</th>\n",
       "      <th>y</th>\n",
       "      <th>ts_local</th>\n",
       "      <th>cv_prob</th>\n",
       "      <th>nct_prob</th>\n",
       "      <th>mode</th>\n",
       "    </tr>\n",
       "  </thead>\n",
       "  <tbody>\n",
       "    <tr>\n",
       "      <th>0</th>\n",
       "      <td>Joe 6088</td>\n",
       "      <td>1297319691</td>\n",
       "      <td>40.779603</td>\n",
       "      <td>-102.323489</td>\n",
       "      <td>1156.000000</td>\n",
       "      <td>2.061553</td>\n",
       "      <td>13.8</td>\n",
       "      <td>5</td>\n",
       "      <td>725859.029481</td>\n",
       "      <td>4.517738e+06</td>\n",
       "      <td>2011-02-09 23:34:51</td>\n",
       "      <td>0.499834</td>\n",
       "      <td>0.500166</td>\n",
       "      <td>w</td>\n",
       "    </tr>\n",
       "    <tr>\n",
       "      <th>1</th>\n",
       "      <td>Joe 6088</td>\n",
       "      <td>1297319692</td>\n",
       "      <td>40.779624</td>\n",
       "      <td>-102.323562</td>\n",
       "      <td>1154.099976</td>\n",
       "      <td>1.500000</td>\n",
       "      <td>2.8</td>\n",
       "      <td>4</td>\n",
       "      <td>725852.777364</td>\n",
       "      <td>4.517741e+06</td>\n",
       "      <td>2011-02-09 23:34:52</td>\n",
       "      <td>0.550161</td>\n",
       "      <td>0.449839</td>\n",
       "      <td>w</td>\n",
       "    </tr>\n",
       "    <tr>\n",
       "      <th>2</th>\n",
       "      <td>Joe 6088</td>\n",
       "      <td>1297319693</td>\n",
       "      <td>40.779594</td>\n",
       "      <td>-102.323562</td>\n",
       "      <td>1146.000000</td>\n",
       "      <td>1.500000</td>\n",
       "      <td>2.7</td>\n",
       "      <td>3</td>\n",
       "      <td>725852.926930</td>\n",
       "      <td>4.517737e+06</td>\n",
       "      <td>2011-02-09 23:34:53</td>\n",
       "      <td>0.765277</td>\n",
       "      <td>0.234723</td>\n",
       "      <td>w</td>\n",
       "    </tr>\n",
       "    <tr>\n",
       "      <th>3</th>\n",
       "      <td>Joe 6088</td>\n",
       "      <td>1297319694</td>\n",
       "      <td>40.779619</td>\n",
       "      <td>-102.323589</td>\n",
       "      <td>1145.300049</td>\n",
       "      <td>1.500000</td>\n",
       "      <td>1.1</td>\n",
       "      <td>3</td>\n",
       "      <td>725850.556938</td>\n",
       "      <td>4.517740e+06</td>\n",
       "      <td>2011-02-09 23:34:54</td>\n",
       "      <td>0.991535</td>\n",
       "      <td>0.008465</td>\n",
       "      <td>w</td>\n",
       "    </tr>\n",
       "    <tr>\n",
       "      <th>4</th>\n",
       "      <td>Joe 6088</td>\n",
       "      <td>1563488097</td>\n",
       "      <td>40.778486</td>\n",
       "      <td>-102.325116</td>\n",
       "      <td>1144.599976</td>\n",
       "      <td>0.750000</td>\n",
       "      <td>92.6</td>\n",
       "      <td>3</td>\n",
       "      <td>725725.518647</td>\n",
       "      <td>4.517610e+06</td>\n",
       "      <td>2019-07-18 16:14:57</td>\n",
       "      <td>0.942039</td>\n",
       "      <td>0.057961</td>\n",
       "      <td>w</td>\n",
       "    </tr>\n",
       "  </tbody>\n",
       "</table>\n",
       "</div>"
      ],
      "text/plain": [
       "  machine_id          ts        lat         lon          alt     speed  track  \\\n",
       "0   Joe 6088  1297319691  40.779603 -102.323489  1156.000000  2.061553   13.8   \n",
       "1   Joe 6088  1297319692  40.779624 -102.323562  1154.099976  1.500000    2.8   \n",
       "2   Joe 6088  1297319693  40.779594 -102.323562  1146.000000  1.500000    2.7   \n",
       "3   Joe 6088  1297319694  40.779619 -102.323589  1145.300049  1.500000    1.1   \n",
       "4   Joe 6088  1563488097  40.778486 -102.325116  1144.599976  0.750000   92.6   \n",
       "\n",
       "   accuracies              x             y            ts_local   cv_prob  \\\n",
       "0           5  725859.029481  4.517738e+06 2011-02-09 23:34:51  0.499834   \n",
       "1           4  725852.777364  4.517741e+06 2011-02-09 23:34:52  0.550161   \n",
       "2           3  725852.926930  4.517737e+06 2011-02-09 23:34:53  0.765277   \n",
       "3           3  725850.556938  4.517740e+06 2011-02-09 23:34:54  0.991535   \n",
       "4           3  725725.518647  4.517610e+06 2019-07-18 16:14:57  0.942039   \n",
       "\n",
       "   nct_prob mode  \n",
       "0  0.500166    w  \n",
       "1  0.449839    w  \n",
       "2  0.234723    w  \n",
       "3  0.008465    w  \n",
       "4  0.057961    w  "
      ]
     },
     "execution_count": 323,
     "metadata": {},
     "output_type": "execute_result"
    }
   ],
   "source": [
    "gps.head()"
   ]
  },
  {
   "cell_type": "code",
   "execution_count": 324,
   "id": "989b20bb",
   "metadata": {
    "ExecuteTime": {
     "end_time": "2021-05-15T00:41:11.024631Z",
     "start_time": "2021-05-15T00:41:10.808300Z"
    }
   },
   "outputs": [
    {
     "data": {
      "text/plain": [
       "(725645.8757153526, 726135.5715363597, 4517530.146109972, 4519291.243203093)"
      ]
     },
     "execution_count": 324,
     "metadata": {},
     "output_type": "execute_result"
    },
    {
     "data": {
      "image/png": "[encoded data removed]",
      "text/plain": [
       "<Figure size 720x432 with 1 Axes>"
      ]
     },
     "metadata": {},
     "output_type": "display_data"
    }
   ],
   "source": [
    "fig, ax = plt.subplots(figsize=(10,6))\n",
    "gps.plot.scatter(x='x', y='y', s=1, ax=ax)\n",
    "ax.axis('equal')"
   ]
  },
  {
   "cell_type": "code",
   "execution_count": 325,
   "id": "5aa9f780",
   "metadata": {
    "ExecuteTime": {
     "end_time": "2021-05-15T00:41:11.057455Z",
     "start_time": "2021-05-15T00:41:11.026757Z"
    }
   },
   "outputs": [],
   "source": [
    "# Before smoothing, let's see if there is any gap in data points\n",
    "# We need to break these different segments into groups and then smooth each group\n",
    "\n",
    "# Take out the working class only\n",
    "gps_seg = gps[gps['mode'] == 'w'].copy()\n",
    "# Compute time difference\n",
    "gps_seg['ts_diff'] = gps_seg['ts'].diff()\n",
    "gps_seg.loc[0, 'ts_diff'] = 0\n",
    "\n",
    "# A trick vector that could be used for grouping\n",
    "gps_seg['ts_diff_binary'] = gps_seg['ts_diff'] > 1\n",
    "gps_seg['ts_diff_binary_cumsum'] = gps_seg['ts_diff_binary'].apply(lambda x: 1 if x else 0).cumsum()\n",
    "\n",
    "# Points groups\n",
    "grp = gps_seg.groupby('ts_diff_binary_cumsum')\n",
    "\n",
    "# Make indices right\n",
    "gps_seg['seg_num'] = grp.ngroup()\n",
    "gps_seg.loc[0, 'seg_num'] = 0"
   ]
  },
  {
   "cell_type": "code",
   "execution_count": 326,
   "id": "29163ec4",
   "metadata": {
    "ExecuteTime": {
     "end_time": "2021-05-15T00:41:11.064517Z",
     "start_time": "2021-05-15T00:41:11.059328Z"
    }
   },
   "outputs": [
    {
     "name": "stdout",
     "output_type": "stream",
     "text": [
      "[  0   1   2   3   4   5   6   7   8   9  10  11  12  13  14  15  16  17\n",
      "  18  19  20  21  22  23  24  25  26  27  28  29  30  31  32  33  34  35\n",
      "  36  37  38  39  40  41  42  43  44  45  46  47  48  49  50  51  52  53\n",
      "  54  55  56  57  58  59  60  61  62  63  64  65  66  67  68  69  70  71\n",
      "  72  73  74  75  76  77  78  79  80  81  82  83  84  85  86  87  88  89\n",
      "  90  91  92  93  94  95  96  97  98  99 100 101 102 103 104 105 106 107\n",
      " 108 109 110 111 112 113 114 115 116 117 118 119 120 121 122 123 124 125\n",
      " 126 127 128 129 130 131 132 133 134 135 136 137 138 139 140 141 142 143\n",
      " 144 145 146 147 148 149 150 151 152 153 154 155 156 157 158 159 160 161\n",
      " 162 163 164 165 166 167 168 169 170 171 172 173 174 175 176 177 178 179\n",
      " 180 181 182 183 184 185 186 187 188 189 190 191 192 193 194]\n"
     ]
    }
   ],
   "source": [
    "print(gps_seg['seg_num'].unique())"
   ]
  },
  {
   "cell_type": "code",
   "execution_count": 327,
   "id": "91720dad",
   "metadata": {
    "ExecuteTime": {
     "end_time": "2021-05-15T00:41:11.076749Z",
     "start_time": "2021-05-15T00:41:11.067496Z"
    }
   },
   "outputs": [],
   "source": [
    "# Allocate space for smoothed x, y\n",
    "gps_s = gps[gps['mode'] == 'w'].copy()\n",
    "gps_s['xs'] = np.nan\n",
    "gps_s['ys'] = np.nan"
   ]
  },
  {
   "cell_type": "code",
   "execution_count": 328,
   "id": "bf4478e9",
   "metadata": {
    "ExecuteTime": {
     "end_time": "2021-05-15T00:41:11.096747Z",
     "start_time": "2021-05-15T00:41:11.078554Z"
    }
   },
   "outputs": [],
   "source": [
    "# For non-working samples, don't smooth them\n",
    "gps_s_nw = gps[gps['mode'] != 'w'].copy()\n",
    "gps_s_nw['xs'] = np.nan\n",
    "gps_s_nw['ys'] = np.nan\n",
    "gps_s_nw.loc[gps_s_nw[gps_s_nw['mode'] != 'w'].index, 'xs'] = gps_s_nw.loc[gps_s_nw[gps_s_nw['mode'] != 'w'].index, 'x']\n",
    "gps_s_nw.loc[gps_s_nw[gps_s_nw['mode'] != 'w'].index, 'ys'] = gps_s_nw.loc[gps_s_nw[gps_s_nw['mode'] != 'w'].index, 'y']"
   ]
  },
  {
   "cell_type": "code",
   "execution_count": 329,
   "id": "7a34ef52",
   "metadata": {
    "ExecuteTime": {
     "end_time": "2021-05-15T00:41:11.104262Z",
     "start_time": "2021-05-15T00:41:11.098679Z"
    }
   },
   "outputs": [],
   "source": [
    "# Define CA Kalman filter\n",
    "dt = 1\n",
    "r = 9 # 9 seems to be the magic value\n",
    "ca = KalmanFilter(6, 2)\n",
    "dt2 = (dt**2)/2\n",
    "F = np.array([[1, dt, dt2],\n",
    "              [0,  1,  dt],\n",
    "              [0,  0,   1]])\n",
    "            \n",
    "ca.F = block_diag(F, F)\n",
    "ca.P *= 1e-6\n",
    "ca.R *= r**2\n",
    "q = np.array([[.05, .125, 1/6],\n",
    "              [.125, 1/3, .5],\n",
    "              [1/6, .5, 1]])*1.e-2\n",
    "ca.Q = block_diag(q, q)\n",
    "ca.H = np.array([[1, 0, 0, 0, 0, 0],\n",
    "                 [0, 0, 0, 1, 0, 0]])"
   ]
  },
  {
   "cell_type": "code",
   "execution_count": 330,
   "id": "a766194f",
   "metadata": {
    "ExecuteTime": {
     "end_time": "2021-05-15T00:41:17.597755Z",
     "start_time": "2021-05-15T00:41:11.105995Z"
    }
   },
   "outputs": [
    {
     "name": "stderr",
     "output_type": "stream",
     "text": [
      "100%|██████████| 195/195 [00:06<00:00, 30.08it/s]\n"
     ]
    }
   ],
   "source": [
    "for n in tqdm(gps_seg['seg_num'].unique()):\n",
    "    # Get the track segment\n",
    "    seg = gps_s.loc[gps_seg['seg_num'] == n, ['x', 'y']]\n",
    "    z = np.vstack([seg['x'].values, seg['y'].values]).T\n",
    "    # Filter data with CA Kalman filter, than run smoother on it\n",
    "    ca.x = np.array([z[0,0], 0, 0, z[0,1], 0, 0])\n",
    "    mu, cov, _, _ = ca.batch_filter(z)\n",
    "    xs, Ps, C, _ = ca.rts_smoother(mu, cov)\n",
    "    # Assign the smoothed estimates to the original df\n",
    "    gps_s.loc[gps_seg['seg_num'] == n, 'xs'] = xs[:,0]\n",
    "    gps_s.loc[gps_seg['seg_num'] == n, 'ys'] = xs[:,3]"
   ]
  },
  {
   "cell_type": "code",
   "execution_count": 331,
   "id": "c2af10c8",
   "metadata": {
    "ExecuteTime": {
     "end_time": "2021-05-15T00:41:17.616808Z",
     "start_time": "2021-05-15T00:41:17.600707Z"
    }
   },
   "outputs": [],
   "source": [
    "gps_s_f = pd.concat([gps_s, gps_s_nw])"
   ]
  },
  {
   "cell_type": "code",
   "execution_count": 332,
   "id": "a2081dda",
   "metadata": {
    "ExecuteTime": {
     "end_time": "2021-05-15T00:41:17.640500Z",
     "start_time": "2021-05-15T00:41:17.619109Z"
    }
   },
   "outputs": [],
   "source": [
    "gps_s_f = gps_s_f.sort_values(by='ts').reset_index(drop=True)"
   ]
  },
  {
   "cell_type": "code",
   "execution_count": 333,
   "id": "4f6bbd09",
   "metadata": {
    "ExecuteTime": {
     "end_time": "2021-05-15T00:41:17.879511Z",
     "start_time": "2021-05-15T00:41:17.642708Z"
    }
   },
   "outputs": [
    {
     "data": {
      "text/plain": [
       "(725645.8757153526, 726135.5715363597, 4517530.146109972, 4519291.243203093)"
      ]
     },
     "execution_count": 333,
     "metadata": {},
     "output_type": "execute_result"
    },
    {
     "data": {
      "image/png": "[encoded data removed]",
      "text/plain": [
       "<Figure size 720x432 with 1 Axes>"
      ]
     },
     "metadata": {},
     "output_type": "display_data"
    }
   ],
   "source": [
    "# %matplotlib notebook\n",
    "fig, ax = plt.subplots(figsize=(10,6))\n",
    "gps_s_f.plot.scatter(x='x', y='y', c='r', s=1, ax=ax)\n",
    "gps_s_f.plot.scatter(x='xs', y='ys', c='g', s=1, ax=ax)\n",
    "ax.axis('equal')"
   ]
  },
  {
   "cell_type": "code",
   "execution_count": 334,
   "id": "b2860b91",
   "metadata": {
    "ExecuteTime": {
     "end_time": "2021-05-15T00:41:17.908820Z",
     "start_time": "2021-05-15T00:41:17.881565Z"
    }
   },
   "outputs": [],
   "source": [
    "gps_s_f.to_hdf(OUTPUT_PATH + '-'.join([EVENT, MACHINE_ID, DATE, FIELD_ID, 'gps-sm.h5']), \\\n",
    "             data_columns=['ts', 'xs', 'ys'], \\\n",
    "             key='df', mode='w')"
   ]
  }
 ],
 "metadata": {
  "kernelspec": {
   "display_name": "Python 3",
   "language": "python",
   "name": "python3"
  },
  "language_info": {
   "codemirror_mode": {
    "name": "ipython",
    "version": 3
   },
   "file_extension": ".py",
   "mimetype": "text/x-python",
   "name": "python",
   "nbconvert_exporter": "python",
   "pygments_lexer": "ipython3",
   "version": "3.8.8"
  }
 },
 "nbformat": 4,
 "nbformat_minor": 5
}
